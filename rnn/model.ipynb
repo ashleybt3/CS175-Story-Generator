{
 "cells": [
  {
   "cell_type": "code",
   "execution_count": 238,
   "metadata": {
    "scrolled": true
   },
   "outputs": [
    {
     "name": "stdout",
     "output_type": "stream",
     "text": [
      "[\"alice was beginning to get very tired of sitting by her sister on the bank, and of having nothing to do:  once or twice she had peeped into the book her sister was reading, but it had no pictures or conversations in it, `and what is the use of a book,' thought alice `without pictures or conversation?'  so she was considering in her own mind (as well as she could, for the hot day made her feel very sleepy and stupid), whether the pleasure of making a daisy-chain would be worth the trouble of getting up and picking the daisies, when suddenly a white rabbit with pink eyes ran close by her\", \"  there was nothing so very remarkable in that; nor did alice think it so very much out of the way to hear the rabbit say to itself, `oh dear!  oh dear!  i shall be late!'  (when she thought it over afterwards, it occurred to her that she ought to have wondered at this, but at the time it all seemed quite natural); but when the rabbit actually took a watch out of its waistcoat- pocket, and looked at it, and then hurried on, alice started to her feet, for it flashed across her mind that she had never before seen a rabbit with either a waistcoat-pocket, or a watch to take out of it, and burning with curiosity, she ran across the field after it, and fortunately was just in time to see it pop down a large rabbit-hole under the hedge\", '  in another moment down went alice after it, never once considering how in the world she was to get out again', '  the rabbit-hole went straight on like a tunnel for some way, and then dipped suddenly down, so suddenly that alice had not a moment to think about stopping herself before she found herself falling down a very deep well', '  either the well was very deep, or she fell very slowly, for she had plenty of time as she went down to look about her and to wonder what was going to happen next', '  first, she tried to look down and make out what she was coming to, but it was too dark to see anything; then she looked at the sides of the well, and noticed that they were filled with cupboards and book-shelves; here and there she saw maps and pictures hung upon pegs', \"  she took down a jar from one of the shelves as she passed; it was labelled `orange marmalade', but to her great disappointment it was empty:  she did not like to drop the jar for fear of killing somebody, so managed to put it into one of the cupboards as she fell past it\", \"  `well!' thought alice to herself, `after such a fall as this, i shall think nothing of tumbling down stairs!  how brave they'll all think me at home!  why, i wouldn't say anything about it, even if i fell off the top of the house!' (which was very likely true\", ')  down, down, down', \"  would the fall never come to an end!  `i wonder how many miles i've fallen by this time?' she said aloud\", ' `i must be getting somewhere near the centre of the earth', \"  let me see:  that would be four thousand miles down, i think--' (for, you see, alice had learnt several things of this sort in her lessons in the schoolroom, and though this was not a very good opportunity for showing off her knowledge, as there was no one to listen to her, still it was good practice to say it over) `--yes, that's about the right distance--but then i wonder what latitude or longitude i've got to?'  (alice had no idea what latitude was, or longitude either, but thought they were nice grand words to say\", ')  presently she began again', \"  `i wonder if i shall fall right through the earth!  how funny it'll seem to come out among the people that walk with their heads downward!  the antipathies, i think--' (she was rather glad there was no one listening, this time, as it didn't sound at all the right word) `--but i shall have to ask them what the name of the country is, you know\", \" please, ma'am, is this new zealand or australia?' (and she tried to curtsey as she spoke--fancy curtseying as you're falling through the air!  do you think you could manage it?)  `and what an ignorant little girl she'll think me for asking!  no, it'll never do to ask:  perhaps i shall see it written up somewhere\", \"'  down, down, down\", '  there was nothing else to do, so alice soon began talking again', \"  `dinah'll miss me very much to-night, i should think!'  (dinah was the cat\", \")  `i hope they'll remember her saucer of milk at tea-time\", \"  dinah my dear!  i wish you were down here with me!  there are no mice in the air, i'm afraid, but you might catch a bat, and that's very like a mouse, you know\", \" but do cats eat bats, i wonder?'  and here alice began to get rather sleepy, and went on saying to herself, in a dreamy sort of way, `do cats eat bats?  do cats eat bats?' and sometimes, `do bats eat cats?' for, you see, as she couldn't answer either question, it didn't much matter which way she put it\", \"  she felt that she was dozing off, and had just begun to dream that she was walking hand in hand with dinah, and saying to her very earnestly, `now, dinah, tell me the truth:  did you ever eat a bat?' when suddenly, thump! thump! down she came upon a heap of sticks and dry leaves, and the fall was over\", '  alice was not a bit hurt, and she jumped up on to her feet in a moment:  she looked up, but it was all dark overhead; before her was another long passage, and the white rabbit was still in sight, hurrying down it', \"  there was not a moment to be lost: away went alice like the wind, and was just in time to hear it say, as it turned a corner, `oh my ears and whiskers, how late it's getting!'  she was close behind it when she turned the corner, but the rabbit was no longer to be seen:  she found herself in a long, low hall, which was lit up by a row of lamps hanging from the roof\", '']\n"
     ]
    }
   ],
   "source": [
    "import torch\n",
    "from torch import nn\n",
    "\n",
    "import numpy as np\n",
    "\n",
    "# raw_text = \"A Town Mouse once visited a relative who lived in the country. \\\n",
    "# For lunch the Country Mouse served wheat stalks, roots, and \\\n",
    "# acorns, with a dash of cold water for drink. The Town Mouse ate \\\n",
    "# very sparingly, nibbling a little of this and a little of that, \\\n",
    "# and by her manner making it very plain that she ate the simple \\\n",
    "# food only to be polite.\"\n",
    "\n",
    "with open(\"alice.txt\", \"r\") as f:\n",
    "    raw_text = f.readlines()\n",
    "    \n",
    "raw_text = [line.strip() for line in raw_text]\n",
    "raw_text = \" \".join(raw_text).lower()\n",
    "\n",
    "# charsdot = set(\"\"abcdefghijklmnopqrstuvwxyz. \"\")\n",
    "# text = \"\"\n",
    "# for char in raw_text.lower():\n",
    "#     if char in charsdot:\n",
    "#         text+= char\n",
    "\n",
    "text = raw_text.split('.')\n",
    "\n",
    "print(text)\n",
    "\n",
    "chars = set(raw_text)\n",
    "\n",
    "# create dictionary, map integer to character\n",
    "int2char = dict(enumerate(chars))\n",
    "\n",
    "# create dictionary, map character to integer\n",
    "char2int = {char: ind for ind, char in int2char.items()}\n"
   ]
  },
  {
   "cell_type": "code",
   "execution_count": 239,
   "metadata": {},
   "outputs": [],
   "source": [
    "# use largest sentence as maxlen\n",
    "maxlen = 300#len(max(text, key=len))\n",
    "\n",
    "# pad each sentence to maxlen with ' '\n",
    "for i in range(len(text)):\n",
    "    while len(text[i])<maxlen:\n",
    "        text[i] += ' '"
   ]
  },
  {
   "cell_type": "code",
   "execution_count": 240,
   "metadata": {},
   "outputs": [
    {
     "name": "stdout",
     "output_type": "stream",
     "text": [
      "Input Sequence: alice was beginning to get very tired of sitting by her sister on the bank, and of having nothing to do:  once or twice she had peeped into the book her sister was reading, but it had no pictures or conversations in it, `and what is the use of a book,' thought alice `without pictures or conversatio\n",
      "Target Sequence: lice was beginning to get very tired of sitting by her sister on the bank, and of having nothing to do:  once or twice she had peeped into the book her sister was reading, but it had no pictures or conversations in it, `and what is the use of a book,' thought alice `without pictures or conversation\n",
      "Input Sequence:   there was nothing so very remarkable in that; nor did alice think it so very much out of the way to hear the rabbit say to itself, `oh dear!  oh dear!  i shall be late!'  (when she thought it over afterwards, it occurred to her that she ought to have wondered at this, but at the time it all seeme\n",
      "Target Sequence:  there was nothing so very remarkable in that; nor did alice think it so very much out of the way to hear the rabbit say to itself, `oh dear!  oh dear!  i shall be late!'  (when she thought it over afterwards, it occurred to her that she ought to have wondered at this, but at the time it all seemed\n",
      "Input Sequence:   in another moment down went alice after it, never once considering how in the world she was to get out again                                                                                                                                                                                             \n",
      "Target Sequence:  in another moment down went alice after it, never once considering how in the world she was to get out again                                                                                                                                                                                              \n",
      "Input Sequence:   the rabbit-hole went straight on like a tunnel for some way, and then dipped suddenly down, so suddenly that alice had not a moment to think about stopping herself before she found herself falling down a very deep well                                                                               \n",
      "Target Sequence:  the rabbit-hole went straight on like a tunnel for some way, and then dipped suddenly down, so suddenly that alice had not a moment to think about stopping herself before she found herself falling down a very deep well                                                                                \n",
      "Input Sequence:   either the well was very deep, or she fell very slowly, for she had plenty of time as she went down to look about her and to wonder what was going to happen next                                                                                                                                        \n",
      "Target Sequence:  either the well was very deep, or she fell very slowly, for she had plenty of time as she went down to look about her and to wonder what was going to happen next                                                                                                                                         \n",
      "Input Sequence:   first, she tried to look down and make out what she was coming to, but it was too dark to see anything; then she looked at the sides of the well, and noticed that they were filled with cupboards and book-shelves; here and there she saw maps and pictures hung upon pegs                             \n",
      "Target Sequence:  first, she tried to look down and make out what she was coming to, but it was too dark to see anything; then she looked at the sides of the well, and noticed that they were filled with cupboards and book-shelves; here and there she saw maps and pictures hung upon pegs                              \n",
      "Input Sequence:   she took down a jar from one of the shelves as she passed; it was labelled `orange marmalade', but to her great disappointment it was empty:  she did not like to drop the jar for fear of killing somebody, so managed to put it into one of the cupboards as she fell past it                          \n",
      "Target Sequence:  she took down a jar from one of the shelves as she passed; it was labelled `orange marmalade', but to her great disappointment it was empty:  she did not like to drop the jar for fear of killing somebody, so managed to put it into one of the cupboards as she fell past it                           \n",
      "Input Sequence:   `well!' thought alice to herself, `after such a fall as this, i shall think nothing of tumbling down stairs!  how brave they'll all think me at home!  why, i wouldn't say anything about it, even if i fell off the top of the house!' (which was very likely true                                      \n",
      "Target Sequence:  `well!' thought alice to herself, `after such a fall as this, i shall think nothing of tumbling down stairs!  how brave they'll all think me at home!  why, i wouldn't say anything about it, even if i fell off the top of the house!' (which was very likely true                                       \n",
      "Input Sequence: )  down, down, down                                                                                                                                                                                                                                                                                        \n",
      "Target Sequence:   down, down, down                                                                                                                                                                                                                                                                                         \n",
      "Input Sequence:   would the fall never come to an end!  `i wonder how many miles i've fallen by this time?' she said aloud                                                                                                                                                                                                 \n",
      "Target Sequence:  would the fall never come to an end!  `i wonder how many miles i've fallen by this time?' she said aloud                                                                                                                                                                                                  \n",
      "Input Sequence:  `i must be getting somewhere near the centre of the earth                                                                                                                                                                                                                                                 \n",
      "Target Sequence: `i must be getting somewhere near the centre of the earth                                                                                                                                                                                                                                                  \n",
      "Input Sequence:   let me see:  that would be four thousand miles down, i think--' (for, you see, alice had learnt several things of this sort in her lessons in the schoolroom, and though this was not a very good opportunity for showing off her knowledge, as there was no one to listen to her, still it was good prac\n",
      "Target Sequence:  let me see:  that would be four thousand miles down, i think--' (for, you see, alice had learnt several things of this sort in her lessons in the schoolroom, and though this was not a very good opportunity for showing off her knowledge, as there was no one to listen to her, still it was good pract\n",
      "Input Sequence: )  presently she began again                                                                                                                                                                                                                                                                               \n",
      "Target Sequence:   presently she began again                                                                                                                                                                                                                                                                                \n",
      "Input Sequence:   `i wonder if i shall fall right through the earth!  how funny it'll seem to come out among the people that walk with their heads downward!  the antipathies, i think--' (she was rather glad there was no one listening, this time, as it didn't sound at all the right word) `--but i shall have to ask \n",
      "Target Sequence:  `i wonder if i shall fall right through the earth!  how funny it'll seem to come out among the people that walk with their heads downward!  the antipathies, i think--' (she was rather glad there was no one listening, this time, as it didn't sound at all the right word) `--but i shall have to ask t\n",
      "Input Sequence:  please, ma'am, is this new zealand or australia?' (and she tried to curtsey as she spoke--fancy curtseying as you're falling through the air!  do you think you could manage it?)  `and what an ignorant little girl she'll think me for asking!  no, it'll never do to ask:  perhaps i shall see it writt\n",
      "Target Sequence: please, ma'am, is this new zealand or australia?' (and she tried to curtsey as she spoke--fancy curtseying as you're falling through the air!  do you think you could manage it?)  `and what an ignorant little girl she'll think me for asking!  no, it'll never do to ask:  perhaps i shall see it writte\n",
      "Input Sequence: '  down, down, down                                                                                                                                                                                                                                                                                        \n",
      "Target Sequence:   down, down, down                                                                                                                                                                                                                                                                                         \n",
      "Input Sequence:   there was nothing else to do, so alice soon began talking again                                                                                                                                                                                                                                          \n",
      "Target Sequence:  there was nothing else to do, so alice soon began talking again                                                                                                                                                                                                                                           \n",
      "Input Sequence:   `dinah'll miss me very much to-night, i should think!'  (dinah was the cat                                                                                                                                                                                                                               \n",
      "Target Sequence:  `dinah'll miss me very much to-night, i should think!'  (dinah was the cat                                                                                                                                                                                                                                \n",
      "Input Sequence: )  `i hope they'll remember her saucer of milk at tea-time                                                                                                                                                                                                                                                 \n",
      "Target Sequence:   `i hope they'll remember her saucer of milk at tea-time                                                                                                                                                                                                                                                  \n",
      "Input Sequence:   dinah my dear!  i wish you were down here with me!  there are no mice in the air, i'm afraid, but you might catch a bat, and that's very like a mouse, you know                                                                                                                                          \n",
      "Target Sequence:  dinah my dear!  i wish you were down here with me!  there are no mice in the air, i'm afraid, but you might catch a bat, and that's very like a mouse, you know                                                                                                                                           \n",
      "Input Sequence:  but do cats eat bats, i wonder?'  and here alice began to get rather sleepy, and went on saying to herself, in a dreamy sort of way, `do cats eat bats?  do cats eat bats?' and sometimes, `do bats eat cats?' for, you see, as she couldn't answer either question, it didn't much matter which way she p\n",
      "Target Sequence: but do cats eat bats, i wonder?'  and here alice began to get rather sleepy, and went on saying to herself, in a dreamy sort of way, `do cats eat bats?  do cats eat bats?' and sometimes, `do bats eat cats?' for, you see, as she couldn't answer either question, it didn't much matter which way she pu\n",
      "Input Sequence:   she felt that she was dozing off, and had just begun to dream that she was walking hand in hand with dinah, and saying to her very earnestly, `now, dinah, tell me the truth:  did you ever eat a bat?' when suddenly, thump! thump! down she came upon a heap of sticks and dry leaves, and the fall was\n",
      "Target Sequence:  she felt that she was dozing off, and had just begun to dream that she was walking hand in hand with dinah, and saying to her very earnestly, `now, dinah, tell me the truth:  did you ever eat a bat?' when suddenly, thump! thump! down she came upon a heap of sticks and dry leaves, and the fall was \n",
      "Input Sequence:   alice was not a bit hurt, and she jumped up on to her feet in a moment:  she looked up, but it was all dark overhead; before her was another long passage, and the white rabbit was still in sight, hurrying down it                                                                                     \n",
      "Target Sequence:  alice was not a bit hurt, and she jumped up on to her feet in a moment:  she looked up, but it was all dark overhead; before her was another long passage, and the white rabbit was still in sight, hurrying down it                                                                                      \n",
      "Input Sequence:   there was not a moment to be lost: away went alice like the wind, and was just in time to hear it say, as it turned a corner, `oh my ears and whiskers, how late it's getting!'  she was close behind it when she turned the corner, but the rabbit was no longer to be seen:  she found herself in a lon\n",
      "Target Sequence:  there was not a moment to be lost: away went alice like the wind, and was just in time to hear it say, as it turned a corner, `oh my ears and whiskers, how late it's getting!'  she was close behind it when she turned the corner, but the rabbit was no longer to be seen:  she found herself in a long\n",
      "Input Sequence:                                                                                                                                                                                                                                                                                                            \n",
      "Target Sequence:                                                                                                                                                                                                                                                                                                            \n"
     ]
    }
   ],
   "source": [
    "#lists to hold input and target sequences\n",
    "input_seq = []\n",
    "target_seq = []\n",
    "\n",
    "for i in range(len(text)):\n",
    "    # remove last char of each input\n",
    "    input_seq.append(text[i][:maxlen-1])\n",
    "    \n",
    "    # remove first char of each target\n",
    "    target_seq.append(text[i][1:maxlen])\n",
    "    print(\"Input Sequence: {}\\nTarget Sequence: {}\".format(input_seq[i], target_seq[i]))"
   ]
  },
  {
   "cell_type": "code",
   "execution_count": 241,
   "metadata": {},
   "outputs": [],
   "source": [
    "for i in range(len(text)):\n",
    "    input_seq[i] = [char2int[character] for character in input_seq[i]]\n",
    "    target_seq[i] = [char2int[character] for character in target_seq[i]]"
   ]
  },
  {
   "cell_type": "code",
   "execution_count": 242,
   "metadata": {},
   "outputs": [],
   "source": [
    "dict_size = len(char2int)\n",
    "seq_len = maxlen - 1\n",
    "batch_size = len(text)\n",
    "\n",
    "def one_hot_encode(sequence, dict_size, seq_len, batch_size):\n",
    "    # Creating a multi-dimensional array of zeros with the desired output shape\n",
    "    features = np.zeros((batch_size, seq_len, dict_size), dtype=np.float32)\n",
    "    \n",
    "    # Replacing the 0 at the relevant character index with a 1 to represent that character\n",
    "    for i in range(batch_size):\n",
    "        for u in range(seq_len):\n",
    "            features[i, u, sequence[i][u]] = 1\n",
    "    return features"
   ]
  },
  {
   "cell_type": "code",
   "execution_count": 243,
   "metadata": {},
   "outputs": [],
   "source": [
    "input_seq = one_hot_encode(input_seq, dict_size, seq_len, batch_size)"
   ]
  },
  {
   "cell_type": "code",
   "execution_count": 244,
   "metadata": {},
   "outputs": [],
   "source": [
    "input_seq = torch.from_numpy(input_seq)\n",
    "target_seq = torch.Tensor(target_seq)"
   ]
  },
  {
   "cell_type": "code",
   "execution_count": 245,
   "metadata": {},
   "outputs": [
    {
     "name": "stdout",
     "output_type": "stream",
     "text": [
      "GPU not available, CPU used\n"
     ]
    }
   ],
   "source": [
    "# torch.cuda.is_available() checks and returns a Boolean True if a GPU is available, else it'll return False\n",
    "is_cuda = torch.cuda.is_available()\n",
    "\n",
    "# If we have a GPU available, we'll set our device to GPU. We'll use this device variable later in our code.\n",
    "if is_cuda:\n",
    "    device = torch.device(\"cuda\")\n",
    "    print(\"GPU is available\")\n",
    "else:\n",
    "    device = torch.device(\"cpu\")\n",
    "    print(\"GPU not available, CPU used\")"
   ]
  },
  {
   "cell_type": "code",
   "execution_count": 246,
   "metadata": {},
   "outputs": [],
   "source": [
    "class Model(nn.Module):\n",
    "    def __init__(self, input_size, output_size, hidden_dim, n_layers):\n",
    "        super(Model, self).__init__()\n",
    "        \n",
    "        #params\n",
    "        self.hidden_dim = hidden_dim\n",
    "        self.n_layers = n_layers\n",
    "        \n",
    "        #Degine layers\n",
    "        #  RNN Layer\n",
    "        self.rnn = nn.RNN(input_size, hidden_dim, n_layers, batch_first=True)\n",
    "        #  Fully connected layer\n",
    "        self.fc = nn.Linear(hidden_dim, output_size)\n",
    "        \n",
    "    def forward(self, x):\n",
    "        batch_size = x.size(0)\n",
    "        \n",
    "        #init hidden state for first input\n",
    "        hidden = self.init_hidden(batch_size)\n",
    "        \n",
    "        out, hidden = self.rnn(x,hidden)\n",
    "        \n",
    "        out = out.contiguous().view(-1, self.hidden_dim)\n",
    "        out = self.fc(out)\n",
    "        \n",
    "        return out, hidden\n",
    "    \n",
    "    def init_hidden(self, batch_size):\n",
    "        #generates first hidden state of zeros for forward pass\n",
    "        hidden = torch.zeros(self.n_layers, batch_size, self.hidden_dim)\n",
    "        return hidden"
   ]
  },
  {
   "cell_type": "code",
   "execution_count": 247,
   "metadata": {},
   "outputs": [],
   "source": [
    "model = Model(input_size=dict_size, output_size=dict_size, hidden_dim=12, n_layers=1)\n",
    "model.to(device)\n",
    "\n",
    "n_epochs = 500\n",
    "lr=0.01\n",
    "\n",
    "criterion = nn.CrossEntropyLoss()\n",
    "optimizer = torch.optim.Adam(model.parameters(), lr=lr)"
   ]
  },
  {
   "cell_type": "code",
   "execution_count": 248,
   "metadata": {},
   "outputs": [
    {
     "name": "stdout",
     "output_type": "stream",
     "text": [
      "Epoch: 100/500............. Loss: 1.8671\n",
      "Epoch: 200/500............. Loss: 1.3932\n",
      "Epoch: 300/500............. Loss: 1.2511\n",
      "Epoch: 400/500............. Loss: 1.1877\n",
      "Epoch: 500/500............. Loss: 1.1501\n"
     ]
    }
   ],
   "source": [
    "#training\n",
    "for epoch in range(1, n_epochs + 1):\n",
    "    optimizer.zero_grad()\n",
    "    input_seq.to(device)\n",
    "    output, hidden = model(input_seq)\n",
    "    loss = criterion(output, target_seq.view(-1).long())\n",
    "    loss.backward()\n",
    "    optimizer.step()\n",
    "    \n",
    "    if epoch%100 == 0:\n",
    "        print('Epoch: {}/{}.............'.format(epoch, n_epochs), end=' ')\n",
    "        print(\"Loss: {:.4f}\".format(loss.item()))"
   ]
  },
  {
   "cell_type": "code",
   "execution_count": 249,
   "metadata": {},
   "outputs": [],
   "source": [
    "# This function takes in the model and character as arguments and returns the next character prediction and hidden state\n",
    "def predict(model, character):\n",
    "    # One-hot encoding our input to fit into the model\n",
    "    character = np.array([[char2int[c] for c in character]])\n",
    "    character = one_hot_encode(character, dict_size, character.shape[1], 1)\n",
    "    character = torch.from_numpy(character)\n",
    "    character.to(device)\n",
    "    \n",
    "    out, hidden = model(character)\n",
    "\n",
    "    prob = nn.functional.softmax(out[-1], dim=0).data\n",
    "    # Taking the class with the highest probability score from the output\n",
    "    char_ind = torch.max(prob, dim=0)[1].item()\n",
    "\n",
    "    return int2char[char_ind], hidden\n"
   ]
  },
  {
   "cell_type": "code",
   "execution_count": 250,
   "metadata": {},
   "outputs": [],
   "source": [
    "# This function takes the desired output length and input characters as arguments, returning the produced sentence\n",
    "def sample(model, out_len, start='hey'):\n",
    "    model.eval() # eval mode\n",
    "    start = start.lower()\n",
    "    # First off, run through the starting characters\n",
    "    chars = [ch for ch in start]\n",
    "    size = out_len - len(chars)\n",
    "    # Now pass in the previous characters and get a new one\n",
    "    for ii in range(size):\n",
    "        char, h = predict(model, chars)\n",
    "        chars.append(char)\n",
    "    \n",
    "    return ''.join(chars)"
   ]
  },
  {
   "cell_type": "code",
   "execution_count": 261,
   "metadata": {},
   "outputs": [
    {
     "data": {
      "text/plain": [
       "'er all the the the the the the the the the the the the the the the the the the the the the the the the the the the the the the the the the the the the the the the the the the the the the the the the the the the the the the the the the the the the the the the the the the the the the the the the the t'"
      ]
     },
     "execution_count": 261,
     "metadata": {},
     "output_type": "execute_result"
    }
   ],
   "source": [
    "sample(model, 300, 'e')"
   ]
  },
  {
   "cell_type": "code",
   "execution_count": null,
   "metadata": {},
   "outputs": [],
   "source": []
  },
  {
   "cell_type": "code",
   "execution_count": null,
   "metadata": {},
   "outputs": [],
   "source": []
  }
 ],
 "metadata": {
  "kernelspec": {
   "display_name": "Python 3",
   "language": "python",
   "name": "python3"
  },
  "language_info": {
   "codemirror_mode": {
    "name": "ipython",
    "version": 3
   },
   "file_extension": ".py",
   "mimetype": "text/x-python",
   "name": "python",
   "nbconvert_exporter": "python",
   "pygments_lexer": "ipython3",
   "version": "3.7.4"
  }
 },
 "nbformat": 4,
 "nbformat_minor": 2
}
